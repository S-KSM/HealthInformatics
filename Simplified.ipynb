{
 "cells": [
  {
   "cell_type": "code",
   "execution_count": 1,
   "metadata": {
    "collapsed": true
   },
   "outputs": [],
   "source": [
    "import csv"
   ]
  },
  {
   "cell_type": "code",
   "execution_count": 2,
   "metadata": {
    "collapsed": false
   },
   "outputs": [
    {
     "name": "stdout",
     "output_type": "stream",
     "text": [
      "Parse complete.\n"
     ]
    }
   ],
   "source": [
    "f = open(\"C:/Users/Shobeir/Desktop/Work/Fiverr/20160421/shisylva/VS10MORT.DUSMCPUB\",buffering=100000)\n",
    "output = open(\"final_csv.csv\",\"w\")\n",
    "\n",
    "output.write('Education,Sex,Age_Value,Marital_Status,Manner_Of_Death,ICD10,Race\\n')\n",
    "\n",
    "for line in f:\n",
    "    Education = line[60:62].strip()\n",
    "    Sex = line[68].strip()\n",
    "    Age_Value = line[70:73].strip()\n",
    "    Place_Of_Death = line[82].strip()\n",
    "    Marital_Status = line[83].strip()\n",
    "    Manner_Of_Death = line[106].strip()\n",
    "    ICD10 = line[145:149].strip()\n",
    "    Race = line[444:446].strip()\n",
    "    \n",
    "    output.write(Education.strip()+\",\"+Sex.strip()+\",\"+Age_Value.strip()+\",\"+\n",
    "                 Marital_Status.strip()+\",\"+Manner_Of_Death.strip()+\",\"+\n",
    "                 ICD10.strip()+\",\"+Race.strip()+\"\\n\")\n",
    "    \n",
    "f.close()\n",
    "output.close()\n",
    "print(\"Parse complete.\")\n",
    "\n"
   ]
  },
  {
   "cell_type": "code",
   "execution_count": 3,
   "metadata": {
    "collapsed": false
   },
   "outputs": [],
   "source": [
    "#Q1\n",
    "answer = {}\n",
    "with open(\"./final_csv.csv\") as csvfile:\n",
    "    reader = csv.DictReader(csvfile)\n",
    "    for row in reader:\n",
    "        sex = row['Sex']       \n",
    "        if sex not in answer:\n",
    "            answer[sex] = 1\n",
    "        else:\n",
    "            answer[sex] += 1\n",
    "\n"
   ]
  },
  {
   "cell_type": "code",
   "execution_count": 4,
   "metadata": {
    "collapsed": false
   },
   "outputs": [
    {
     "name": "stdout",
     "output_type": "stream",
     "text": [
      "0.9982720998270483\n"
     ]
    }
   ],
   "source": [
    "print(answer['M']/answer['F'])"
   ]
  },
  {
   "cell_type": "code",
   "execution_count": 5,
   "metadata": {
    "collapsed": false
   },
   "outputs": [],
   "source": [
    "#Q2\n",
    "answer = {}\n",
    "with open(\"./final_csv.csv\") as csvfile:\n",
    "    reader = csv.DictReader(csvfile)\n",
    "\n",
    "    for row in reader:\n",
    "        age = int(row['Age_Value'])\n",
    "        if (age >= 0) and (age < 10):\n",
    "            cat = '0-10'\n",
    "            \n",
    "            if cat not in answer:\n",
    "                answer[cat] = 1\n",
    "            else:\n",
    "                answer[cat] += 1\n",
    "        elif (age >= 10) and (age < 20):\n",
    "            cat = '10-20'\n",
    "            \n",
    "            if cat not in answer:\n",
    "                answer[cat] = 1\n",
    "            else:\n",
    "                answer[cat] += 1\n",
    "        elif (age >= 20) and (age < 30):\n",
    "            cat = '20-30'\n",
    "            \n",
    "            if cat not in answer:\n",
    "                answer[cat] = 1\n",
    "            else:\n",
    "                answer[cat] += 1\n",
    "        \n",
    "        elif (age >= 30) and (age < 40):\n",
    "            cat = '30-40'\n",
    "            \n",
    "            if cat not in answer:\n",
    "                answer[cat] = 1\n",
    "            else:\n",
    "                answer[cat] += 1\n",
    "\n",
    "        elif (age >= 40) and (age < 50):\n",
    "            cat = '40-50'\n",
    "            \n",
    "            if cat not in answer:\n",
    "                answer[cat] = 1\n",
    "            else:\n",
    "                answer[cat] += 1\n",
    "\n",
    "        elif (age >= 50) and (age < 60):\n",
    "            cat = '50-60'\n",
    "            \n",
    "            if cat not in answer:\n",
    "                answer[cat] = 1\n",
    "            else:\n",
    "                answer[cat] += 1\n",
    "                \n",
    "        elif (age >= 60) and (age < 70):\n",
    "            cat = '60-70'\n",
    "            \n",
    "            if cat not in answer:\n",
    "                answer[cat] = 1\n",
    "            else:\n",
    "                answer[cat] += 1   \n",
    "        elif (age >= 60) and (age < 70):\n",
    "            cat = '60-70'\n",
    "            \n",
    "            if cat not in answer:\n",
    "                answer[cat] = 1\n",
    "            else:\n",
    "                answer[cat] += 1\n",
    "                \n",
    "        elif (age >= 70) and (age < 80):\n",
    "            cat = '70-80'\n",
    "            \n",
    "            if cat not in answer:\n",
    "                answer[cat] = 1\n",
    "            else:\n",
    "                answer[cat] += 1\n",
    "                \n",
    "        elif (age >= 80) and (age < 90):\n",
    "            cat = '80-90'\n",
    "            \n",
    "            if cat not in answer:\n",
    "                answer[cat] = 1\n",
    "            else:\n",
    "                answer[cat] += 1\n",
    "                \n",
    "        elif (age >= 90) and (age < 100):\n",
    "            cat = '90-100'\n",
    "            \n",
    "            if cat not in answer:\n",
    "                answer[cat] = 1\n",
    "            else:\n",
    "                answer[cat] += 1\n",
    "                \n",
    "        elif (age >= 100):\n",
    "            cat = '100+'\n",
    "            \n",
    "            if cat not in answer:\n",
    "                answer[cat] = 1\n",
    "            else:\n",
    "                answer[cat] += 1"
   ]
  },
  {
   "cell_type": "code",
   "execution_count": 6,
   "metadata": {
    "collapsed": false
   },
   "outputs": [
    {
     "name": "stdout",
     "output_type": "stream",
     "text": [
      "{'0-10': 24928, '80-90': 732207, '10-20': 17213, '50-60': 250692, '30-40': 50805, '20-30': 40710, '100+': 22278, '90-100': 364344, '40-50': 116474, '70-80': 491266, '60-70': 361625}\n"
     ]
    }
   ],
   "source": [
    "print(answer)"
   ]
  },
  {
   "cell_type": "code",
   "execution_count": 7,
   "metadata": {
    "collapsed": false
   },
   "outputs": [
    {
     "name": "stdout",
     "output_type": "stream",
     "text": [
      "{'01': 2117975, '38': 481, '07': 9511, '18': 4723, '58': 267, '48': 3194, '28': 3762, '78': 2255, '02': 287434, '68': 8877, '03': 15584, '06': 594, '05': 6911, '04': 10974}\n"
     ]
    }
   ],
   "source": [
    "#Q3\n",
    "answer = {}\n",
    "with open(\"./final_csv.csv\") as csvfile:\n",
    "    reader = csv.DictReader(csvfile)\n",
    "    for row in reader:\n",
    "        race = row['Race']       \n",
    "        if race not in answer:\n",
    "            answer[race] = 1\n",
    "        else:\n",
    "            answer[race] += 1\n",
    "\n",
    "print(answer)"
   ]
  },
  {
   "cell_type": "code",
   "execution_count": 8,
   "metadata": {
    "collapsed": false
   },
   "outputs": [
    {
     "name": "stdout",
     "output_type": "stream",
     "text": [
      "{'01': 741, '00': 12602, '10': 37576, '': 1723209, '07': 12021, '16': 62786, '17': 39956, '13': 26781, '11': 34365, '02': 1571, '09': 23286, '03': 5242, '15': 11941, '08': 59863, '14': 66389, '06': 15953, '99': 10845, '12': 317030, '05': 5817, '04': 4568}\n"
     ]
    }
   ],
   "source": [
    "#Q4\n",
    "answer = {}\n",
    "with open(\"./final_csv.csv\") as csvfile:\n",
    "    reader = csv.DictReader(csvfile)\n",
    "    for row in reader:\n",
    "        edu = row['Education']       \n",
    "        if edu not in answer:\n",
    "            answer[edu] = 1\n",
    "        else:\n",
    "            answer[edu] += 1\n",
    "\n",
    "print(answer)"
   ]
  },
  {
   "cell_type": "code",
   "execution_count": 9,
   "metadata": {
    "collapsed": false
   },
   "outputs": [
    {
     "name": "stdout",
     "output_type": "stream",
     "text": [
      "{'W': 880812, 'M': 934687, 'S': 299697, 'D': 343034, 'U': 14312}\n"
     ]
    }
   ],
   "source": [
    "#Q5\n",
    "answer = {}\n",
    "with open(\"./final_csv.csv\") as csvfile:\n",
    "    reader = csv.DictReader(csvfile)\n",
    "    for row in reader:\n",
    "        maritial_stat = row['Marital_Status']       \n",
    "        if maritial_stat not in answer:\n",
    "            answer[maritial_stat] = 1\n",
    "        else:\n",
    "            answer[maritial_stat] += 1\n",
    "\n",
    "print(answer)"
   ]
  },
  {
   "cell_type": "code",
   "execution_count": 10,
   "metadata": {
    "collapsed": false
   },
   "outputs": [
    {
     "name": "stdout",
     "output_type": "stream",
     "text": [
      "{'W': 880812, 'M': 934687, 'S': 299697, 'D': 343034, 'U': 14312}\n"
     ]
    }
   ],
   "source": [
    "#Q6\n",
    "answer = {}\n",
    "with open(\"./final_csv.csv\") as csvfile:\n",
    "    reader = csv.DictReader(csvfile)\n",
    "    for row in reader:\n",
    "        manner_death = row['Marital_Status']       \n",
    "        if manner_death not in answer:\n",
    "            answer[manner_death] = 1\n",
    "        else:\n",
    "            answer[manner_death] += 1\n",
    "\n",
    "print(answer)"
   ]
  },
  {
   "cell_type": "code",
   "execution_count": 11,
   "metadata": {
    "collapsed": false
   },
   "outputs": [],
   "source": [
    "#Q7\n",
    "answer = {}\n",
    "with open(\"./final_csv.csv\") as csvfile:\n",
    "    reader = csv.DictReader(csvfile)\n",
    "    for row in reader:\n",
    "        ICD = row['ICD10']       \n",
    "        if ICD not in answer:\n",
    "            answer[ICD] = 1\n",
    "        else:\n",
    "            answer[ICD] += 1\n",
    "\n",
    "top_10 = sorted(answer.items(), key=lambda x: x[1],reverse=True)[:10]\n"
   ]
  },
  {
   "cell_type": "code",
   "execution_count": 16,
   "metadata": {
    "collapsed": false
   },
   "outputs": [],
   "source": [
    "# Opening ICD.txt\n",
    "myicdCode= {}\n",
    "f = open(\"ICD.txt\",'r')\n",
    "icdcode = f.readlines()\n",
    "for line in icdcode:\n",
    "    line = line.strip()\n",
    "    line = line.replace(\".\",\"\")\n",
    "    line = line.replace(\"-\",\"\")\n",
    "    a = line.split(\"\\t\")\n",
    "    if len(a)== 2:\n",
    "        a1 = line.split(\"\\t\")[0]\n",
    "        a2 = line.split(\"\\t\")[1]\n",
    "        \n",
    "        myicdCode[a1] = str(a2)\n",
    "    \n",
    "    "
   ]
  },
  {
   "cell_type": "code",
   "execution_count": 18,
   "metadata": {
    "collapsed": false
   },
   "outputs": [
    {
     "name": "stdout",
     "output_type": "stream",
     "text": [
      "Atherosclerotic heart disease  :   171627\n",
      "\"Malignant neoplasm of bronchus or lung, unspecified\"  :   157595\n",
      "\"Acute myocardial infarction, unspecified\"  :   122093\n",
      "Unspecified dementia  :   98190\n",
      "\"Chronic obstructive pulmonary disease, unspecified\"  :   98022\n",
      "\"Alzheimer's disease, unspecified\"  :   80744\n",
      "\"Stroke, not specified as hemorrhage or infarction\"  :   68416\n",
      "\"Atherosclerotic cardiovascular disease, so described\"  :   57720\n",
      "Congestive heart failure  :   52288\n",
      "\"Pneumonia, unspecified\"  :   43864\n"
     ]
    }
   ],
   "source": [
    "\n",
    "for i in range(10):\n",
    "    myindex = top_10[i][0]\n",
    "    print(myicdCode[myindex],\" :  \",top_10[i][1])"
   ]
  },
  {
   "cell_type": "code",
   "execution_count": 43,
   "metadata": {
    "collapsed": true
   },
   "outputs": [],
   "source": [
    "def corr(data1, data2):\n",
    "    M = len(data1)\n",
    "\n",
    "    sum1 = 0.\n",
    "    sum2 = 0.\n",
    "    for i in range(M):\n",
    "        sum1 += data1[i]\n",
    "        sum2 += data2[i]\n",
    "    mean1 = sum1 / M\n",
    "    mean2 = sum2 / M\n",
    "\n",
    "    var_sum1 = 0.\n",
    "    var_sum2 = 0.\n",
    "    cross_sum = 0.\n",
    "    for i in range(M):\n",
    "        var_sum1 += (data1[i] - mean1) ** 2\n",
    "        var_sum2 += (data2[i] - mean2) ** 2\n",
    "        cross_sum += (data1[i] * data2[i])\n",
    "\n",
    "    std1 = (var_sum1 / M) ** .5\n",
    "    std2 = (var_sum2 / M) ** .5\n",
    "    cross_mean = cross_sum / M\n",
    "\n",
    "    return (cross_mean - mean1 * mean2) / (std1 * std2)"
   ]
  },
  {
   "cell_type": "code",
   "execution_count": 44,
   "metadata": {
    "collapsed": false
   },
   "outputs": [],
   "source": [
    "#Q8\n",
    "\n",
    "Age_list = []\n",
    "Edu_list = []\n",
    "with open(\"./final_csv.csv\") as csvfile:\n",
    "    reader = csv.DictReader(csvfile)\n",
    "    for row in reader:\n",
    "        if row['Age_Value'] == '':\n",
    "            age = 0\n",
    "        else:\n",
    "            age = int(row['Age_Value'])\n",
    "        if row['Education'] == '':\n",
    "            edu = 0\n",
    "        else:\n",
    "            edu = int(row['Education'])            \n",
    "        Age_list.append(age)\n",
    "        Edu_list.append(edu)\n",
    "        \n"
   ]
  },
  {
   "cell_type": "code",
   "execution_count": 45,
   "metadata": {
    "collapsed": false
   },
   "outputs": [
    {
     "name": "stdout",
     "output_type": "stream",
     "text": [
      "Correlation Age and Education:   0.011027954442047936\n"
     ]
    }
   ],
   "source": [
    "print(\"Correlation Age and Education:  \", corr(Age_list,Edu_list))"
   ]
  },
  {
   "cell_type": "code",
   "execution_count": 33,
   "metadata": {
    "collapsed": false
   },
   "outputs": [],
   "source": [
    "#Q9:\n",
    "Age_list = []\n",
    "Race_list = []\n",
    "with open(\"./final_csv.csv\") as csvfile:\n",
    "    reader = csv.DictReader(csvfile)\n",
    "    for row in reader:\n",
    "        if row['Age_Value'] == '':\n",
    "            age = 0\n",
    "        else:\n",
    "            age = int(row['Age_Value'])\n",
    "        if row['Race'] == '':\n",
    "            race = 0\n",
    "        else:\n",
    "            race = int(row['Race'])            \n",
    "        Age_list.append(age)\n",
    "        Race_list.append(edu)"
   ]
  },
  {
   "cell_type": "code",
   "execution_count": 46,
   "metadata": {
    "collapsed": false
   },
   "outputs": [
    {
     "name": "stdout",
     "output_type": "stream",
     "text": [
      "Correlation Age and Race:   0.011027954442047936\n"
     ]
    }
   ],
   "source": [
    "print(\"Correlation Age and Race:  \", corr(Age_list,Edu_list))"
   ]
  },
  {
   "cell_type": "code",
   "execution_count": 37,
   "metadata": {
    "collapsed": false
   },
   "outputs": [],
   "source": [
    "#Q10:\n",
    "maritial_status_dict = {'D':-2, 'S':-1, 'W':1, 'M':2, 'U':0}\n",
    "\n",
    "Age_list = []\n",
    "mar_list = []\n",
    "with open(\"./final_csv.csv\") as csvfile:\n",
    "    reader = csv.DictReader(csvfile)\n",
    "    for row in reader:\n",
    "        if row['Age_Value'] == '':\n",
    "            age = 0\n",
    "        else:\n",
    "            age = int(row['Age_Value'])\n",
    "        if row['Marital_Status'] == '':\n",
    "            mar = 'W'\n",
    "        else:\n",
    "            mar = row['Marital_Status']            \n",
    "        Age_list.append(age)\n",
    "        mar_list.append(mar)\n",
    "        \n",
    "maritial_status_list = []\n",
    "for i in mar_list:\n",
    "    maritial_status_list.append(maritial_status_dict[i])"
   ]
  },
  {
   "cell_type": "code",
   "execution_count": 47,
   "metadata": {
    "collapsed": false
   },
   "outputs": [
    {
     "name": "stdout",
     "output_type": "stream",
     "text": [
      "Correlation Age and Maritial Status:   0.23387373532996292\n"
     ]
    }
   ],
   "source": [
    "print(\"Correlation Age and Maritial Status:  \", corr(maritial_status_list,Age_list))"
   ]
  },
  {
   "cell_type": "code",
   "execution_count": null,
   "metadata": {
    "collapsed": true
   },
   "outputs": [],
   "source": []
  }
 ],
 "metadata": {
  "kernelspec": {
   "display_name": "Python 3",
   "language": "python",
   "name": "python3"
  },
  "language_info": {
   "codemirror_mode": {
    "name": "ipython",
    "version": 3
   },
   "file_extension": ".py",
   "mimetype": "text/x-python",
   "name": "python",
   "nbconvert_exporter": "python",
   "pygments_lexer": "ipython3",
   "version": "3.5.1"
  }
 },
 "nbformat": 4,
 "nbformat_minor": 0
}
