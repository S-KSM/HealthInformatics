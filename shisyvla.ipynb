{
 "cells": [
  {
   "cell_type": "code",
   "execution_count": 1,
   "metadata": {
    "collapsed": false
   },
   "outputs": [],
   "source": [
    "import pandas as pd\n",
    "import numpy as np\n",
    "\n",
    "from collections import Counter\n"
   ]
  },
  {
   "cell_type": "code",
   "execution_count": 2,
   "metadata": {
    "collapsed": false
   },
   "outputs": [
    {
     "name": "stdout",
     "output_type": "stream",
     "text": [
      "Parse complete.\n"
     ]
    }
   ],
   "source": [
    "f = open(\"C:/Users/Shobeir/Desktop/Work/Fiverr/20160421/shisylva/VS10MORT.DUSMCPUB\",buffering=100000)\n",
    "output = open(\"final_csv.csv\",\"w\")\n",
    "\n",
    "output.write('Education,Sex,Age_Value,Marital_Status,Manner_Of_Death,ICD10,Race\\n')\n",
    "\n",
    "for line in f:\n",
    "    Education = line[60:62].strip()\n",
    "    Sex = line[68].strip()\n",
    "    Age_Value = line[70:73].strip()\n",
    "    Place_Of_Death = line[82].strip()\n",
    "    Marital_Status = line[83].strip()\n",
    "    Manner_Of_Death = line[106].strip()\n",
    "    ICD10 = line[145:149].strip()\n",
    "    Race = line[444:446].strip()\n",
    "    \n",
    "    output.write(Education.strip()+\",\"+Sex.strip()+\",\"+Age_Value.strip()+\",\"+\n",
    "                 Marital_Status.strip()+\",\"+Manner_Of_Death.strip()+\",\"+\n",
    "                 ICD10.strip()+\",\"+Race.strip()+\"\\n\")\n",
    "    \n",
    "f.close()\n",
    "output.close()\n",
    "print(\"Parse complete.\")\n",
    "\n"
   ]
  },
  {
   "cell_type": "code",
   "execution_count": 3,
   "metadata": {
    "collapsed": false
   },
   "outputs": [
    {
     "data": {
      "text/html": [
       "<div>\n",
       "<table border=\"1\" class=\"dataframe\">\n",
       "  <thead>\n",
       "    <tr style=\"text-align: right;\">\n",
       "      <th></th>\n",
       "      <th>Education</th>\n",
       "      <th>Sex</th>\n",
       "      <th>Age_Value</th>\n",
       "      <th>Marital_Status</th>\n",
       "      <th>Manner_Of_Death</th>\n",
       "      <th>ICD10</th>\n",
       "      <th>Race</th>\n",
       "    </tr>\n",
       "  </thead>\n",
       "  <tbody>\n",
       "    <tr>\n",
       "      <th>0</th>\n",
       "      <td>12.0</td>\n",
       "      <td>F</td>\n",
       "      <td>68</td>\n",
       "      <td>D</td>\n",
       "      <td>7.0</td>\n",
       "      <td>G049</td>\n",
       "      <td>3</td>\n",
       "    </tr>\n",
       "    <tr>\n",
       "      <th>1</th>\n",
       "      <td>6.0</td>\n",
       "      <td>F</td>\n",
       "      <td>12</td>\n",
       "      <td>S</td>\n",
       "      <td>7.0</td>\n",
       "      <td>C37</td>\n",
       "      <td>1</td>\n",
       "    </tr>\n",
       "    <tr>\n",
       "      <th>2</th>\n",
       "      <td>12.0</td>\n",
       "      <td>F</td>\n",
       "      <td>75</td>\n",
       "      <td>D</td>\n",
       "      <td>7.0</td>\n",
       "      <td>C719</td>\n",
       "      <td>1</td>\n",
       "    </tr>\n",
       "    <tr>\n",
       "      <th>3</th>\n",
       "      <td>12.0</td>\n",
       "      <td>M</td>\n",
       "      <td>61</td>\n",
       "      <td>W</td>\n",
       "      <td>7.0</td>\n",
       "      <td>F03</td>\n",
       "      <td>68</td>\n",
       "    </tr>\n",
       "    <tr>\n",
       "      <th>4</th>\n",
       "      <td>14.0</td>\n",
       "      <td>F</td>\n",
       "      <td>46</td>\n",
       "      <td>M</td>\n",
       "      <td>2.0</td>\n",
       "      <td>X72</td>\n",
       "      <td>1</td>\n",
       "    </tr>\n",
       "  </tbody>\n",
       "</table>\n",
       "</div>"
      ],
      "text/plain": [
       "   Education Sex  Age_Value Marital_Status  Manner_Of_Death ICD10  Race\n",
       "0       12.0   F         68              D              7.0  G049     3\n",
       "1        6.0   F         12              S              7.0   C37     1\n",
       "2       12.0   F         75              D              7.0  C719     1\n",
       "3       12.0   M         61              W              7.0   F03    68\n",
       "4       14.0   F         46              M              2.0   X72     1"
      ]
     },
     "execution_count": 3,
     "metadata": {},
     "output_type": "execute_result"
    }
   ],
   "source": [
    "mydata = pd.read_csv(\"./final_csv.csv\")\n",
    "mydata.head()"
   ]
  },
  {
   "cell_type": "code",
   "execution_count": null,
   "metadata": {
    "collapsed": true
   },
   "outputs": [],
   "source": []
  },
  {
   "cell_type": "markdown",
   "metadata": {},
   "source": [
    "# Q1 Sex Ratio?"
   ]
  },
  {
   "cell_type": "code",
   "execution_count": 4,
   "metadata": {
    "collapsed": false
   },
   "outputs": [
    {
     "name": "stdout",
     "output_type": "stream",
     "text": [
      "M/F Ratio:  0.998272099827\n"
     ]
    }
   ],
   "source": [
    "print(\"M/F Ratio: \", mydata.Sex.value_counts()[1]/mydata.Sex.value_counts()[0])"
   ]
  },
  {
   "cell_type": "markdown",
   "metadata": {},
   "source": [
    "# Q2 Age Distribution?"
   ]
  },
  {
   "cell_type": "code",
   "execution_count": 5,
   "metadata": {
    "collapsed": false
   },
   "outputs": [],
   "source": [
    "hist, bin_edges = np.histogram(mydata.Age_Value.values, bins=[0, 1, 10, 20,30,40,50,60,70,80,90,100])"
   ]
  },
  {
   "cell_type": "code",
   "execution_count": 6,
   "metadata": {
    "collapsed": false
   },
   "outputs": [
    {
     "data": {
      "image/png": "[encoded data removed]",
      "text/plain": [
       "<matplotlib.figure.Figure at 0x20af78acda0>"
      ]
     },
     "metadata": {},
     "output_type": "display_data"
    }
   ],
   "source": [
    "plt.bar(bin_edges[:-1], hist, width = 10)\n",
    "plt.xlim(min(bin_edges), max(bin_edges))\n",
    "plt.show()   "
   ]
  },
  {
   "cell_type": "markdown",
   "metadata": {},
   "source": [
    "# Q3 Race?"
   ]
  },
  {
   "cell_type": "code",
   "execution_count": 32,
   "metadata": {
    "collapsed": false
   },
   "outputs": [
    {
     "name": "stdout",
     "output_type": "stream",
     "text": [
      "1     2117975\n",
      "2      287434\n",
      "3       15584\n",
      "4       10974\n",
      "7        9511\n",
      "68       8877\n",
      "5        6911\n",
      "18       4723\n",
      "28       3762\n",
      "48       3194\n",
      "78       2255\n",
      "6         594\n",
      "38        481\n",
      "58        267\n",
      "Name: Race, dtype: int64\n"
     ]
    }
   ],
   "source": [
    "print(mydata.Race.value_counts())"
   ]
  },
  {
   "cell_type": "markdown",
   "metadata": {},
   "source": [
    "# Q4 Education?"
   ]
  },
  {
   "cell_type": "code",
   "execution_count": 8,
   "metadata": {
    "collapsed": false
   },
   "outputs": [
    {
     "data": {
      "text/plain": [
       "12.0    317030\n",
       "14.0     66389\n",
       "16.0     62786\n",
       "8.0      59863\n",
       "17.0     39956\n",
       "10.0     37576\n",
       "11.0     34365\n",
       "13.0     26781\n",
       "9.0      23286\n",
       "6.0      15953\n",
       "0.0      12602\n",
       "7.0      12021\n",
       "15.0     11941\n",
       "99.0     10845\n",
       "5.0       5817\n",
       "3.0       5242\n",
       "4.0       4568\n",
       "2.0       1571\n",
       "1.0        741\n",
       "Name: Education, dtype: int64"
      ]
     },
     "execution_count": 8,
     "metadata": {},
     "output_type": "execute_result"
    }
   ],
   "source": [
    "print((mydata.Education.value_counts())"
   ]
  },
  {
   "cell_type": "markdown",
   "metadata": {},
   "source": [
    "# Q5 Maritial Status?"
   ]
  },
  {
   "cell_type": "code",
   "execution_count": 9,
   "metadata": {
    "collapsed": false
   },
   "outputs": [
    {
     "data": {
      "text/plain": [
       "M    934687\n",
       "W    880812\n",
       "D    343034\n",
       "S    299697\n",
       "U     14312\n",
       "Name: Marital_Status, dtype: int64"
      ]
     },
     "execution_count": 9,
     "metadata": {},
     "output_type": "execute_result"
    }
   ],
   "source": [
    "print(mydata.Marital_Status.value_counts())"
   ]
  },
  {
   "cell_type": "markdown",
   "metadata": {},
   "source": [
    "# Q6 manner of death?"
   ]
  },
  {
   "cell_type": "code",
   "execution_count": 10,
   "metadata": {
    "collapsed": false
   },
   "outputs": [
    {
     "data": {
      "text/plain": [
       "7.0    1842436\n",
       "1.0     116092\n",
       "2.0      38710\n",
       "3.0      17280\n",
       "5.0      11506\n",
       "4.0       5094\n",
       "Name: Manner_Of_Death, dtype: int64"
      ]
     },
     "execution_count": 10,
     "metadata": {},
     "output_type": "execute_result"
    }
   ],
   "source": [
    "print(mydata.Manner_Of_Death.value_counts())"
   ]
  },
  {
   "cell_type": "markdown",
   "metadata": {},
   "source": [
    "# Q7 Top 10 Cause of Death"
   ]
  },
  {
   "cell_type": "code",
   "execution_count": 11,
   "metadata": {
    "collapsed": true
   },
   "outputs": [],
   "source": [
    "cnt = Counter(mydata.ICD10.values)"
   ]
  },
  {
   "cell_type": "code",
   "execution_count": 12,
   "metadata": {
    "collapsed": true
   },
   "outputs": [],
   "source": [
    "ICD10_dict = {'I251':'Atherosclerotic heart disease',\n",
    "             'C349':\"Malignant neoplasm of bronchus or lung, unspecified\",\n",
    "             \"I219\":\"Acute myocardial infarction, unspecified\",\n",
    "              'F03':\"Unspecified dementia\",\n",
    "              \"J449\":\"Chronic obstructive pulmonary disease, unspecified\",\n",
    "              \"G309\":\"Alzheimer's disease, unspecified\",\n",
    "              \"I64\":\"Stroke, not specified as hemorrhage or infarction\",\n",
    "              \"I500\":\"Congestive heart failure\",\n",
    "              \"I250\":\"Atherosclerotic cardiovascular disease, so described\",\n",
    "              \"J189\":\"Pneumonia, unspecified\"}"
   ]
  },
  {
   "cell_type": "code",
   "execution_count": 13,
   "metadata": {
    "collapsed": false
   },
   "outputs": [],
   "source": [
    "top_causes_tuples = cnt.most_common(10)"
   ]
  },
  {
   "cell_type": "code",
   "execution_count": 14,
   "metadata": {
    "collapsed": false
   },
   "outputs": [],
   "source": [
    "top_causes_list = [ICD10_dict[top_causes_tuples[i][0]] for i in range(len(top_causes_tuples))]"
   ]
  },
  {
   "cell_type": "code",
   "execution_count": 15,
   "metadata": {
    "collapsed": false
   },
   "outputs": [
    {
     "name": "stdout",
     "output_type": "stream",
     "text": [
      "Atherosclerotic heart disease :  171627\n",
      "Malignant neoplasm of bronchus or lung, unspecified :  157595\n",
      "Acute myocardial infarction, unspecified :  122093\n",
      "Unspecified dementia :  98190\n",
      "Chronic obstructive pulmonary disease, unspecified :  98022\n",
      "Alzheimer's disease, unspecified :  80744\n",
      "Stroke, not specified as hemorrhage or infarction :  68416\n",
      "Atherosclerotic cardiovascular disease, so described :  57720\n",
      "Congestive heart failure :  52288\n",
      "Pneumonia, unspecified :  43864\n"
     ]
    }
   ],
   "source": [
    "counter = 0\n",
    "for i in top_causes_list:\n",
    "    \n",
    "    print(i,\": \", top_causes_tuples[counter][1])\n",
    "    counter +=1"
   ]
  },
  {
   "cell_type": "markdown",
   "metadata": {},
   "source": [
    "# Q8 Correlation between education and death age?"
   ]
  },
  {
   "cell_type": "code",
   "execution_count": 33,
   "metadata": {
    "collapsed": false
   },
   "outputs": [
    {
     "name": "stdout",
     "output_type": "stream",
     "text": [
      "0.0332372719073\n"
     ]
    }
   ],
   "source": [
    "print(mydata.Education.corr(mydata.Age_Value))"
   ]
  },
  {
   "cell_type": "markdown",
   "metadata": {},
   "source": [
    "There is almost no correlation between the Education and Age."
   ]
  },
  {
   "cell_type": "markdown",
   "metadata": {},
   "source": [
    "# Q9 Correlation between race and death age?"
   ]
  },
  {
   "cell_type": "code",
   "execution_count": 34,
   "metadata": {
    "collapsed": false
   },
   "outputs": [
    {
     "name": "stdout",
     "output_type": "stream",
     "text": [
      "-0.0409747010757\n"
     ]
    }
   ],
   "source": [
    "print(mydata.Race.corr(mydata.Age_Value))"
   ]
  },
  {
   "cell_type": "markdown",
   "metadata": {},
   "source": [
    "There is almost no correlation between the Education and Age. The negative sign is an anti-correlation, meaning that the more you move away from being white, the younger you die! "
   ]
  },
  {
   "cell_type": "markdown",
   "metadata": {},
   "source": [
    "# Q10 Correlation between marital status and death age?"
   ]
  },
  {
   "cell_type": "code",
   "execution_count": 20,
   "metadata": {
    "collapsed": false
   },
   "outputs": [
    {
     "data": {
      "text/plain": [
       "array(['D', 'S', 'W', 'M', 'U'], dtype=object)"
      ]
     },
     "execution_count": 20,
     "metadata": {},
     "output_type": "execute_result"
    }
   ],
   "source": [
    "mydata.Marital_Status.unique()"
   ]
  },
  {
   "cell_type": "code",
   "execution_count": 21,
   "metadata": {
    "collapsed": true
   },
   "outputs": [],
   "source": [
    "maritial_status_dict = {'D':-2, 'S':-1, 'W':1, 'M':2, 'U':0}"
   ]
  },
  {
   "cell_type": "code",
   "execution_count": 28,
   "metadata": {
    "collapsed": false
   },
   "outputs": [],
   "source": [
    "int_maritial_status_list = [maritial_status_dict[i] for i in mydata.Marital_Status.values.tolist()]\n",
    "int_maritial_status_array = np.array(int_maritial_status_list)"
   ]
  },
  {
   "cell_type": "code",
   "execution_count": 35,
   "metadata": {
    "collapsed": false
   },
   "outputs": [
    {
     "name": "stdout",
     "output_type": "stream",
     "text": [
      "0.00677205061359\n"
     ]
    }
   ],
   "source": [
    "print(np.corrcoef(mydata.Race.values,int_maritial_status_array)[0,1])"
   ]
  },
  {
   "cell_type": "markdown",
   "metadata": {},
   "source": [
    "There is almost no correlation between death age and maritial status."
   ]
  },
  {
   "cell_type": "code",
   "execution_count": null,
   "metadata": {
    "collapsed": true
   },
   "outputs": [],
   "source": []
  }
 ],
 "metadata": {
  "kernelspec": {
   "display_name": "Python 3",
   "language": "python",
   "name": "python3"
  },
  "language_info": {
   "codemirror_mode": {
    "name": "ipython",
    "version": 3
   },
   "file_extension": ".py",
   "mimetype": "text/x-python",
   "name": "python",
   "nbconvert_exporter": "python",
   "pygments_lexer": "ipython3",
   "version": "3.5.1"
  }
 },
 "nbformat": 4,
 "nbformat_minor": 0
}
